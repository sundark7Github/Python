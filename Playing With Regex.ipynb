{
 "cells": [
  {
   "cell_type": "code",
   "execution_count": 9,
   "metadata": {},
   "outputs": [],
   "source": [
    "import re #Importing regex module\n"
   ]
  },
  {
   "cell_type": "code",
   "execution_count": 34,
   "metadata": {},
   "outputs": [
    {
     "name": "stdout",
     "output_type": "stream",
     "text": [
      "Hey!\n"
     ]
    }
   ],
   "source": [
    "a = 'Hey! This is Sundar, Welcome to my Blog.Lets Play with Regex. Thanks, Sundar'\n",
    "#Here we are going to visualize the diference between '+' and '*' in regex pattern\n",
    "#As we all know 'match' method will return output if it finds the patter at BEGINNING of the string\n",
    "try:   \n",
    "    #This compile is just prevalidation step which will validate the pattern if the pattern is irregular or not valid else it will throw error\n",
    "    b = re.compile(r'[a-zA-z]+\\d*\\W') \n",
    "    print(re.match(b,a).group())\n",
    "except: \n",
    "    print(False)\n",
    " \n",
    " # Here we can see eventhough there is no occurence of digits (\\d), other pattern is executed and returned the first word from the string\n",
    "#since we use '*' operator it executes the pattern  eventhough there is 0 match for that"
   ]
  },
  {
   "cell_type": "code",
   "execution_count": 35,
   "metadata": {},
   "outputs": [
    {
     "name": "stdout",
     "output_type": "stream",
     "text": [
      "False\n"
     ]
    }
   ],
   "source": [
    "try:   \n",
    "    b = re.compile(r'[a-zA-z]+\\d+\\W') \n",
    "    print(re.match(b,a).group())\n",
    "except: \n",
    "    print(False)\n",
    "#Since we use '+' operator here and there is no digits in the string, it didn't execute the entire pattern and returns nothing"
   ]
  },
  {
   "cell_type": "code",
   "execution_count": 38,
   "metadata": {},
   "outputs": [
    {
     "name": "stdout",
     "output_type": "stream",
     "text": [
      "Match Output : None\n",
      "Search Output : Sundar\n",
      "Findall Output : ['Sundar', 'Sundar']\n"
     ]
    }
   ],
   "source": [
    "#In above we have seen the match function, which returns word only if the beginning of the string satisfies the pattern\n",
    "# But Search works in different way which returns the first occurence of the pattern in the string irrespective of its position\n",
    "# Findall is an another alternative which will return a list of all occurences of the pattern\n",
    "try:   \n",
    "    b = re.compile(r'S[a-zA-z]+') \n",
    "    print('Match Output : {}'.format(re.match(b,a)))\n",
    "    print('Search Output : {}'.format(re.search(b,a).group()))\n",
    "    print('Findall Output : {}'.format(re.findall(b,a)))\n",
    "except: \n",
    "    print(False)\n",
    "#group() method is used to segregate output from match and search method as both will return a object but its not needed for findall as it returns out put in string\n",
    "#Here i have removed group() in match method since in this scenario it wont yield any output and calling group() over the null  output will return error"
   ]
  },
  {
   "cell_type": "code",
   "execution_count": null,
   "metadata": {},
   "outputs": [],
   "source": []
  }
 ],
 "metadata": {
  "kernelspec": {
   "display_name": "Python 3",
   "language": "python",
   "name": "python3"
  },
  "language_info": {
   "codemirror_mode": {
    "name": "ipython",
    "version": 3
   },
   "file_extension": ".py",
   "mimetype": "text/x-python",
   "name": "python",
   "nbconvert_exporter": "python",
   "pygments_lexer": "ipython3",
   "version": "3.7.0"
  }
 },
 "nbformat": 4,
 "nbformat_minor": 2
}
